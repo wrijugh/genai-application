{
    "cells": [
     {
      "cell_type": "markdown",
      "metadata": {},
      "source": [
       "# Azure OpenAI Demo"
      ]
     },
     {
      "cell_type": "markdown",
      "metadata": {},
      "source": [
       "## Import"
      ]
     },
     {
      "cell_type": "code",
      "execution_count": 3,
      "metadata": {},
      "outputs": [],
      "source": [
       "import openai"
      ]
     },
     {
      "cell_type": "markdown",
      "metadata": {},
      "source": [
       "## Load the config file"
      ]
     },
     {
      "cell_type": "code",
      "execution_count": 5,
      "metadata": {},
      "outputs": [
       {
        "name": "stdout",
        "output_type": "stream",
        "text": [
         "Loaded .env file. OpenAI Base EP : https://aoiaiappdev.openai.azure.com/\n"
        ]
       }
      ],
      "source": [
       "import os\n",
       "from dotenv import load_dotenv\n",
       "\n",
       "if load_dotenv():\n",
       "    print(\"Loaded .env file. OpenAI Base EP : \" + os.getenv(\"AZURE_OPENAI_ENDPOINT\")) \n",
       "else:\n",
       "    print(\"No .env file found\")"
      ]
     },
     {
      "cell_type": "markdown",
      "metadata": {},
      "source": [
       "## Test the AzureOpenAI API"
      ]
     },
     {
      "cell_type": "code",
      "execution_count": 9,
      "metadata": {},
      "outputs": [
       {
        "name": "stdout",
        "output_type": "stream",
        "text": [
         "travel the world and experience different cultures. I would love to visit places like Japan, India, Italy, and Brazil, and immerse myself in the local customs, traditions, and cuisines. I believe that traveling not only broadens our perspective but also helps us appreciate the diversity and beauty of our planet.\n"
        ]
       }
      ],
      "source": [
       "from openai import AzureOpenAI\n",
       "\n",
       "client = AzureOpenAI (\n",
       "    azure_endpoint=os.getenv(\"AZURE_OPENAI_ENDPOINT\"),\n",
       "    api_key = os.getenv(\"AZURE_OPENAI_API_KEY\"),\n",
       "    api_version = os.getenv(\"OPENAI_API_VERSION\")\n",
       ")\n",
       "\n",
       "response = client.chat.completions.create(\n",
       "    model = os.getenv(\"AZURE_OPENAI_COMPLETION_MODEL\"),\n",
       "    messages = [\n",
       "        {\n",
       "            \"role\": \"assistant\",\n",
       "            \"content\": \"The one thing I would like to do is \"\n",
       "        }\n",
       "    ]\n",
       ")\n",
       "\n",
       "print(response.choices[0].message.content)"
      ]
     },
     {
      "cell_type": "markdown",
      "metadata": {},
      "source": [
       "## Langchain - Simple Approach"
      ]
     },
     {
      "cell_type": "code",
      "execution_count": 10,
      "metadata": {},
      "outputs": [
       {
        "name": "stdout",
        "output_type": "stream",
        "text": [
         "content='There are numerous projects you can create with a Raspberry Pi. Here are some popular ideas:\\n\\n1. Media Center: Transform your Raspberry Pi into a media center by installing Kodi or Plex to stream movies, TV shows, and music on your home network.\\n\\n2. Retro Gaming Console: Build a retro gaming console using RetroPie. Play classic games from various consoles like NES, SNES, Sega Genesis, and many more.\\n\\n3. Home Automation: Use your Raspberry Pi to control and automate various smart home devices such as lights, thermostat, security cameras, and more.\\n\\n4. Weather Station: Create a weather station that collects and displays weather data such as temperature, humidity, and atmospheric pressure using sensors.\\n\\n5. Home Server: Set up a Raspberry Pi as a home server to store and access files, host websites or blogs, run a VPN, or even create your own cloud storage.\\n\\n6. Robot or Drone: Build a small robot or drone using a Raspberry Pi as the brain. You can program it to perform specific tasks or explore its surroundings.\\n\\n7. Pi-powered Arcade Cabinet: Construct your own arcade cabinet with joysticks and buttons, then install RetroPie to enjoy classic arcade games.\\n\\n8. Network Monitoring Tool: Develop a network monitoring system using your Raspberry Pi to monitor network traffic, detect intrusions, or analyze network performance.\\n\\n9. Home Security System: Create a DIY home security system by connecting cameras, motion sensors, and alarms to your Raspberry Pi for surveillance and alerts.\\n\\n10. Smart Mirror: Build a smart mirror with a Raspberry Pi behind it. It can display useful information like weather, calendar, news, and even act as a voice-controlled virtual assistant.\\n\\nThese are just a few examples, and the possibilities with a Raspberry Pi are nearly endless. The choice ultimately depends on your interests and skills.' additional_kwargs={'refusal': None} response_metadata={'token_usage': {'completion_tokens': 364, 'prompt_tokens': 17, 'total_tokens': 381, 'completion_tokens_details': None}, 'model_name': 'gpt-35-turbo-16k', 'system_fingerprint': None, 'prompt_filter_results': [{'prompt_index': 0, 'content_filter_results': {}}], 'finish_reason': 'stop', 'logprobs': None, 'content_filter_results': {'hate': {'filtered': False, 'severity': 'safe'}, 'protected_material_code': {'filtered': False, 'detected': False}, 'protected_material_text': {'filtered': False, 'detected': False}, 'self_harm': {'filtered': False, 'severity': 'safe'}, 'sexual': {'filtered': False, 'severity': 'safe'}, 'violence': {'filtered': False, 'severity': 'safe'}}} id='run-e5e1f571-124e-4142-8f85-002e5732c51a-0' usage_metadata={'input_tokens': 17, 'output_tokens': 364, 'total_tokens': 381}\n"
        ]
       }
      ],
      "source": [
       "from langchain_openai import AzureChatOpenAI\n",
       "\n",
       "llm = AzureChatOpenAI(\n",
       "    azure_deployment = os.getenv(\"AZURE_OPENAI_COMPLETION_DEPLOYMENT_NAME\")\n",
       ")\n",
       "\n",
       "response= llm.invoke(\n",
       "    \"What things could I make with a Raspberry Pi?\"\n",
       ")\n",
       "\n",
       "print(response)"
      ]
     },
     {
      "cell_type": "markdown",
      "metadata": {},
      "source": [
       "## Langchain Prompt Template"
      ]
     },
     {
      "cell_type": "code",
      "execution_count": 11,
      "metadata": {},
      "outputs": [
       {
        "name": "stdout",
        "output_type": "stream",
        "text": [
         "- Industry: Technology\n",
         "- History of the Organization: Microsoft Corporation, commonly known as Microsoft, is an American multinational technology company founded by Bill Gates and Paul Allen on April 4, 1975. It started as a small software company and became one of the world's largest technology corporations. Microsoft is known for its software products, including the Windows operating systems, Office suite, and Internet Explorer web browser. It has also expanded into hardware with products like the Xbox gaming console and Surface tablets. Over the years, Microsoft has played a significant role in shaping the computer industry and has become one of the most valuable companies in the world.\n",
         "- Official Website: https://www.microsoft.com/\n"
        ]
       }
      ],
      "source": [
       "from langchain_openai import AzureChatOpenAI\n",
       "from langchain_core.prompts import ChatPromptTemplate\n",
       "from langchain_core.output_parsers import StrOutputParser\n",
       "\n",
       "llm = AzureChatOpenAI(\n",
       "    azure_deployment = os.getenv(\"AZURE_OPENAI_COMPLETION_DEPLOYMENT_NAME\")\n",
       ")\n",
       "\n",
       "prompt = ChatPromptTemplate.from_messages(\n",
       "    [\n",
       "        (\"system\", \n",
       "        ''' You bring the information aout the organization.\n",
       "        In following format:\n",
       "        - Industry:\n",
       "        - History of the Organization:\n",
       "        - Official Website:\n",
       "        '''\n",
       "        ),\n",
       "        (\"user\",\"{input}\")\n",
       "    ])\n",
       "\n",
       "output_parser = StrOutputParser()\n",
       "\n",
       "chain = prompt | llm | output_parser\n",
       "\n",
       "response = chain.invoke({\"input\": \"Microsoft\"})\n",
       "\n",
       "print(response)"
      ]
     }
    ],
    "metadata": {
     "language_info": {
      "name": "python"
     }
    },
    "nbformat": 4,
    "nbformat_minor": 2
   }
   